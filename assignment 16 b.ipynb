{
 "cells": [
  {
   "cell_type": "code",
   "execution_count": 1,
   "id": "4a3c4354",
   "metadata": {},
   "outputs": [
    {
     "data": {
      "text/plain": [
       "'\\n\\nQ1. What are the three measures of central tendency?\\nThe three measures of central tendency are:\\n\\nMean: The arithmetic average of a set of values.\\nMedian: The middle value of a dataset when it is ordered from smallest to largest.\\nMode: The value that appears most frequently in a dataset.\\n'"
      ]
     },
     "execution_count": 1,
     "metadata": {},
     "output_type": "execute_result"
    }
   ],
   "source": [
    "'''\n",
    "\n",
    "Q1. What are the three measures of central tendency?\n",
    "The three measures of central tendency are:\n",
    "\n",
    "Mean: The arithmetic average of a set of values.\n",
    "Median: The middle value of a dataset when it is ordered from smallest to largest.\n",
    "Mode: The value that appears most frequently in a dataset.\n",
    "'''\n",
    "\n"
   ]
  },
  {
   "cell_type": "code",
   "execution_count": 2,
   "id": "abe71074",
   "metadata": {},
   "outputs": [
    {
     "data": {
      "text/plain": [
       "'\\n\\nQ2. What is the difference between the mean, median, and mode? How are they used to measure the central tendency of a dataset?\\nMean:\\n\\nDefinition: The sum of all values divided by the number of values.\\n\\nUsage: The mean is used when you want to calculate the average value of a dataset. It is sensitive to outliers, meaning extreme\\nvalues can significantly affect the mean.\\nMedian:\\n\\nDefinition: The middle value when the data is ordered. If there is an even number of observations, the median is the average of \\nthe two middle numbers.\\nUsage: The median is used when you want to understand the central value of a dataset, particularly when the data is skewed or \\ncontains outliers, as it is not affected by extreme values.\\nMode:\\n\\nDefinition: The value that occurs most frequently in the dataset.\\nCalculation: Identify the most common value(s) in the dataset.\\nUsage: The mode is used when you want to determine the most common or frequent value in a dataset. It is useful for categorical\\ndata where you want to know which is the most popular category.\\n'"
      ]
     },
     "execution_count": 2,
     "metadata": {},
     "output_type": "execute_result"
    }
   ],
   "source": [
    "'''\n",
    "\n",
    "Q2. What is the difference between the mean, median, and mode? How are they used to measure the central tendency of a dataset?\n",
    "Mean:\n",
    "\n",
    "Definition: The sum of all values divided by the number of values.\n",
    "\n",
    "Usage: The mean is used when you want to calculate the average value of a dataset. It is sensitive to outliers, meaning extreme\n",
    "values can significantly affect the mean.\n",
    "Median:\n",
    "\n",
    "Definition: The middle value when the data is ordered. If there is an even number of observations, the median is the average of \n",
    "the two middle numbers.\n",
    "Usage: The median is used when you want to understand the central value of a dataset, particularly when the data is skewed or \n",
    "contains outliers, as it is not affected by extreme values.\n",
    "Mode:\n",
    "\n",
    "Definition: The value that occurs most frequently in the dataset.\n",
    "Calculation: Identify the most common value(s) in the dataset.\n",
    "Usage: The mode is used when you want to determine the most common or frequent value in a dataset. It is useful for categorical\n",
    "data where you want to know which is the most popular category.\n",
    "'''"
   ]
  },
  {
   "cell_type": "code",
   "execution_count": 8,
   "id": "0be39ec0",
   "metadata": {},
   "outputs": [
    {
     "name": "stdout",
     "output_type": "stream",
     "text": [
      "mean is:  177.01875\n",
      "median is:  177.0\n",
      "mode is:  178\n"
     ]
    }
   ],
   "source": [
    "'''\n",
    "Q3. Measure the three measures of central tendency for the given height data:\n",
    "'''\n",
    "ls=[178,177,176,177,178.2,178,175,179,180,175,178.9,176.2,177,172.5,178,176.5]\n",
    "import numpy as np\n",
    "import statistics as sts\n",
    "print(\"mean is: \", np.mean(ls))\n",
    "print(\"median is: \",np.median(ls))\n",
    "print(\"mode is: \", sts.mode(ls))"
   ]
  },
  {
   "cell_type": "code",
   "execution_count": 9,
   "id": "abc5c083",
   "metadata": {},
   "outputs": [
    {
     "data": {
      "text/plain": [
       "1.7885814036548633"
      ]
     },
     "execution_count": 9,
     "metadata": {},
     "output_type": "execute_result"
    }
   ],
   "source": [
    "'''\n",
    "Q4. Find the standard deviation for the given data:\n",
    "'''\n",
    "\n",
    "ls = [178,177,176,177,178.2,178,175,179,180,175,178.9,176.2,177,172.5,178,176.5]\n",
    "np.std(ls)"
   ]
  },
  {
   "cell_type": "code",
   "execution_count": 13,
   "id": "f1c8f8a8",
   "metadata": {},
   "outputs": [
    {
     "data": {
      "text/plain": [
       "(7.5, 3.199023437500001, 1.7885814036548633)"
      ]
     },
     "execution_count": 13,
     "metadata": {},
     "output_type": "execute_result"
    }
   ],
   "source": [
    "'''\n",
    "Q5. How are measures of dispersion such as range, variance, and standard deviation used to describe\n",
    "the spread of a dataset? Provide an example.\n",
    "\n",
    "Measures of dispersion, such as range, variance, and standard deviation, are used to quantify the extent of spread or variability within a dataset. Here’s how each measure describes the spread:\n",
    "\n",
    "Range:\n",
    "\n",
    "Definition: The difference between the maximum and minimum values in a dataset.\n",
    "Use: It provides a quick and simple measure of spread, indicating the total extent covered by the dataset.\n",
    "\n",
    "Variance:\n",
    "\n",
    "Definition: The average of the squared differences from the mean.\n",
    "Use: It measures the average distance of each data point from the mean, providing a numerical measure of spread.\n",
    "\n",
    "Standard Deviation:\n",
    "\n",
    "Definition: The square root of the variance.\n",
    "Use: It indicates the typical distance of data points from the mean, offering a standardized measure of spread that is in the same units as the original data.\n",
    "\n",
    "'''\n",
    "\n",
    "#example\n",
    "\n",
    "range_ls = np.max(ls)-np.min(ls)\n",
    "variance = np.var(ls)\n",
    "standerdDaviation = np.std(ls)\n",
    "\n",
    "range_ls,variance,standerdDaviation"
   ]
  },
  {
   "cell_type": "code",
   "execution_count": 14,
   "id": "950ad597",
   "metadata": {},
   "outputs": [
    {
     "data": {
      "text/plain": [
       "'\\nQ6. What is a Venn diagram?\\nA Venn diagram is a graphical representation that visually illustrates the relationships and similarities between different \\nsets or groups of data. It consists of overlapping circles (or other shapes) where each circle typically represents a set. The \\noverlapping areas indicate commonalities or intersections between the sets.'"
      ]
     },
     "execution_count": 14,
     "metadata": {},
     "output_type": "execute_result"
    }
   ],
   "source": [
    "'''\n",
    "Q6. What is a Venn diagram?\n",
    "A Venn diagram is a graphical representation that visually illustrates the relationships and similarities between different \n",
    "sets or groups of data. It consists of overlapping circles (or other shapes) where each circle typically represents a set. The \n",
    "overlapping areas indicate commonalities or intersections between the sets.'''"
   ]
  },
  {
   "cell_type": "code",
   "execution_count": 20,
   "id": "ab96e618",
   "metadata": {},
   "outputs": [
    {
     "name": "stdout",
     "output_type": "stream",
     "text": [
      "union {0, 2, 3, 4, 5, 6, 7, 8, 10}\n",
      "intersaction {2, 6}\n"
     ]
    }
   ],
   "source": [
    "'''\n",
    "Q7. For the two given sets A = (2,3,4,5,6,7) & B = (0,2,6,8,10). Find:\n",
    "(i) A B\n",
    "(ii) A ⋃ B\n",
    "'''\n",
    "A = {2,3,4,5,6,7}\n",
    "B = {0,2,6,8,10}\n",
    "\n",
    "print(\"union\",A.union(B))\n",
    "print(\"intersaction\",A.intersection(B))"
   ]
  },
  {
   "cell_type": "code",
   "execution_count": 21,
   "id": "15c4d2b3",
   "metadata": {},
   "outputs": [
    {
     "data": {
      "text/plain": [
       "'\\nQ8. What do you understand about skewness in data?\\nQ8. What do you understand about skewness in data?\\nSkewness in data refers to the asymmetry or lack of symmetry in the distribution of data points around their mean. A distribution can be:\\n\\nSymmetric: Data points are evenly distributed around the mean.\\nRight-skewed (positively skewed): The tail on the right side of the distribution is longer or fatter than the left side. The mean is typically greater than the median in right-skewed distributions.\\nLeft-skewed (negatively skewed): The tail on the left side of the distribution is longer or fatter than the right side. The mean is typically less than the median in left-skewed distributions.\\n'"
      ]
     },
     "execution_count": 21,
     "metadata": {},
     "output_type": "execute_result"
    }
   ],
   "source": [
    "'''\n",
    "Q8. What do you understand about skewness in data?\n",
    "Q8. What do you understand about skewness in data?\n",
    "Skewness in data refers to the asymmetry or lack of symmetry in the distribution of data points around their mean. A distribution can be:\n",
    "\n",
    "Symmetric: Data points are evenly distributed around the mean.\n",
    "Right-skewed (positively skewed): The tail on the right side of the distribution is longer or fatter than the left side. The mean is typically greater than the median in right-skewed distributions.\n",
    "Left-skewed (negatively skewed): The tail on the left side of the distribution is longer or fatter than the right side. The mean is typically less than the median in left-skewed distributions.\n",
    "'''"
   ]
  },
  {
   "cell_type": "code",
   "execution_count": 22,
   "id": "d7d71071",
   "metadata": {},
   "outputs": [
    {
     "data": {
      "text/plain": [
       "'\\nQ9. If a data is right skewed then what will be the position of median with respect to mean?\\nIn a right-skewed distribution:\\n\\nThe mean is typically greater than the median.\\nThe tail of the distribution extends towards the right, with more values lying to the left of the median.\\n'"
      ]
     },
     "execution_count": 22,
     "metadata": {},
     "output_type": "execute_result"
    }
   ],
   "source": [
    "'''\n",
    "Q9. If a data is right skewed then what will be the position of median with respect to mean?\n",
    "In a right-skewed distribution:\n",
    "\n",
    "The mean is typically greater than the median.\n",
    "The tail of the distribution extends towards the right, with more values lying to the left of the median.\n",
    "'''"
   ]
  },
  {
   "cell_type": "code",
   "execution_count": 23,
   "id": "f54e4d9d",
   "metadata": {},
   "outputs": [
    {
     "data": {
      "text/plain": [
       "\"\\n10. Explain the difference between covariance and correlation. How are these measures used in statistical analysis?\\nCovariance and correlation are both measures of the relationship between two variables:\\n\\nCovariance: Measures the degree to which two variables change together. It indicates the direction of the linear relationship between variables (positive or negative), but it is affected by the scale of the variables.\\nUsed to assess the strength and direction of linear relationships. However, it doesn't standardize the measures, so the values can vary widely.\\n\\nCorrelation: Standardized measure of the linear relationship between two variables, scaled to always lie between -1 and +1. It tells you both the direction and strength of the linear relationship.\\nUsed to assess how strongly two variables are related. It provides a clearer picture of how changes in one variable are associated with changes in another.\\n\""
      ]
     },
     "execution_count": 23,
     "metadata": {},
     "output_type": "execute_result"
    }
   ],
   "source": [
    "'''\n",
    "10. Explain the difference between covariance and correlation. How are these measures used in statistical analysis?\n",
    "Covariance and correlation are both measures of the relationship between two variables:\n",
    "\n",
    "Covariance: Measures the degree to which two variables change together. It indicates the direction of the linear relationship between variables (positive or negative), but it is affected by the scale of the variables.\n",
    "Used to assess the strength and direction of linear relationships. However, it doesn't standardize the measures, so the values can vary widely.\n",
    "\n",
    "Correlation: Standardized measure of the linear relationship between two variables, scaled to always lie between -1 and +1. It tells you both the direction and strength of the linear relationship.\n",
    "Used to assess how strongly two variables are related. It provides a clearer picture of how changes in one variable are associated with changes in another.\n",
    "'''"
   ]
  },
  {
   "cell_type": "code",
   "execution_count": 24,
   "id": "e81085a3",
   "metadata": {},
   "outputs": [
    {
     "data": {
      "text/plain": [
       "'\\nQ11. What is the formula for calculating the sample mean? Provide an example calculation for a dataset.\\nThe formula for calculating the sample mean (Xbar)is:\\n\\nXmean = 1/n(xi)\\nxi=individual data points\\nn = total no.of values\\n'"
      ]
     },
     "execution_count": 24,
     "metadata": {},
     "output_type": "execute_result"
    }
   ],
   "source": [
    "'''\n",
    "Q11. What is the formula for calculating the sample mean? Provide an example calculation for a dataset.\n",
    "The formula for calculating the sample mean (Xbar)is:\n",
    "\n",
    "Xmean = 1/n(xi)\n",
    "xi=individual data points\n",
    "n = total no.of values\n",
    "'''"
   ]
  },
  {
   "cell_type": "code",
   "execution_count": 25,
   "id": "f4d48110",
   "metadata": {},
   "outputs": [
    {
     "data": {
      "text/plain": [
       "'\\nQ12. For a normal distribution data what is the relationship between its measure of central tendency?\\nFor a normal distribution:\\n\\nThe mean, median, and mode are all equal.\\nThey are located at the center of the distribution, reflecting the symmetry of the normal distribution around its mean.\\n'"
      ]
     },
     "execution_count": 25,
     "metadata": {},
     "output_type": "execute_result"
    }
   ],
   "source": [
    "'''\n",
    "Q12. For a normal distribution data what is the relationship between its measure of central tendency?\n",
    "For a normal distribution:\n",
    "\n",
    "The mean, median, and mode are all equal.\n",
    "They are located at the center of the distribution, reflecting the symmetry of the normal distribution around its mean.\n",
    "'''"
   ]
  },
  {
   "cell_type": "code",
   "execution_count": 26,
   "id": "915d9c42",
   "metadata": {},
   "outputs": [
    {
     "data": {
      "text/plain": [
       "'\\nQ13. How is covariance different from correlation?\\nCovariance: Measures the direction and strength of the linear relationship between two variables. It is affected by the scale of the variables.\\nCorrelation: Standardized measure of the linear relationship between two variables, scaled to always lie between -1 and +1. It provides a clearer picture of how changes in one variable are associated with changes in another.\\n'"
      ]
     },
     "execution_count": 26,
     "metadata": {},
     "output_type": "execute_result"
    }
   ],
   "source": [
    "'''\n",
    "Q13. How is covariance different from correlation?\n",
    "Covariance: Measures the direction and strength of the linear relationship between two variables. It is affected by the scale of the variables.\n",
    "Correlation: Standardized measure of the linear relationship between two variables, scaled to always lie between -1 and +1. It provides a clearer picture of how changes in one variable are associated with changes in another.\n",
    "'''"
   ]
  },
  {
   "cell_type": "code",
   "execution_count": 27,
   "id": "35fecf3a",
   "metadata": {},
   "outputs": [
    {
     "data": {
      "text/plain": [
       "'\\nQ14. How do outliers affect measures of central tendency and dispersion? Provide an example.\\nOutliers can significantly affect measures of central tendency and dispersion:\\n\\nCentral Tendency: Outliers can pull the mean away from the center of the distribution, making it a less representative measure of the typical value.\\nDispersion: Outliers can increase the variance and standard deviation, as these measures are sensitive to extreme values.\\n'"
      ]
     },
     "execution_count": 27,
     "metadata": {},
     "output_type": "execute_result"
    }
   ],
   "source": [
    "'''\n",
    "Q14. How do outliers affect measures of central tendency and dispersion? Provide an example.\n",
    "Outliers can significantly affect measures of central tendency and dispersion:\n",
    "\n",
    "Central Tendency: Outliers can pull the mean away from the center of the distribution, making it a less representative measure of the typical value.\n",
    "Dispersion: Outliers can increase the variance and standard deviation, as these measures are sensitive to extreme values.\n",
    "'''"
   ]
  },
  {
   "cell_type": "code",
   "execution_count": null,
   "id": "6b979606",
   "metadata": {},
   "outputs": [],
   "source": []
  }
 ],
 "metadata": {
  "kernelspec": {
   "display_name": "Python 3 (ipykernel)",
   "language": "python",
   "name": "python3"
  },
  "language_info": {
   "codemirror_mode": {
    "name": "ipython",
    "version": 3
   },
   "file_extension": ".py",
   "mimetype": "text/x-python",
   "name": "python",
   "nbconvert_exporter": "python",
   "pygments_lexer": "ipython3",
   "version": "3.11.4"
  }
 },
 "nbformat": 4,
 "nbformat_minor": 5
}
